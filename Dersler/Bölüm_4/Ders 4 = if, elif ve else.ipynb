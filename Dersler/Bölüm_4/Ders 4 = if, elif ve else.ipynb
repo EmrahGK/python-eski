{
 "cells": [
  {
   "cell_type": "code",
   "execution_count": 5,
   "metadata": {},
   "outputs": [
    {
     "name": "stdout",
     "output_type": "stream",
     "text": [
      "İşlemi girin: 65\n",
      "Lütfen 1 ve 4 arasında bir işlem girin\n"
     ]
    }
   ],
   "source": [
    "#elif ile farklı bir koşul atarız.\n",
    "\n",
    "işlem = input(\"İşlemi girin: \")\n",
    "\n",
    "if işlem == \"1\":\n",
    "    print(\"İşlem 1 seçildi.\")\n",
    "elif işlem == \"2\":\n",
    "    print(\"İşlem 2 seçildi.\")\n",
    "elif işlem == \"3\":\n",
    "    print(\"İşlem 3 seçildi.\")\n",
    "elif işlem == \"4\":\n",
    "    print(\"İşlem 4 seçildi.\")\n",
    "else:\n",
    "    print(\"Lütfen 1 ve 4 arasında bir işlem girin\")"
   ]
  },
  {
   "cell_type": "code",
   "execution_count": 2,
   "metadata": {},
   "outputs": [
    {
     "ename": "SyntaxError",
     "evalue": "invalid syntax (<ipython-input-2-1e898d50b261>, line 2)",
     "output_type": "error",
     "traceback": [
      "\u001b[1;36m  File \u001b[1;32m\"<ipython-input-2-1e898d50b261>\"\u001b[1;36m, line \u001b[1;32m2\u001b[0m\n\u001b[1;33m    else:\u001b[0m\n\u001b[1;37m    ^\u001b[0m\n\u001b[1;31mSyntaxError\u001b[0m\u001b[1;31m:\u001b[0m invalid syntax\n"
     ]
    }
   ],
   "source": [
    "#else tek başına kullanılamaz\n",
    "else:\n",
    "    print(\"Geçersiz İşlem\")"
   ]
  },
  {
   "cell_type": "code",
   "execution_count": null,
   "metadata": {},
   "outputs": [],
   "source": [
    "#hata verecek çünkü if olmadan elif olmaz :D\n",
    "işlem = input(\"İşlemi girin: \")\n",
    "\n",
    "elif işlem == \"1\":\n",
    "    print(\"İşlem 1 seçildi.\")\n",
    "elif işlem == \"2\":\n",
    "    print(\"İşlem 2 seçildi.\")\n",
    "elif işlem == \"3\":\n",
    "    print(\"İşlem 3 seçildi.\")\n",
    "elif işlem == \"4\":\n",
    "    print(\"İşlem 4 seçildi.\")\n",
    "else:"
   ]
  },
  {
   "cell_type": "code",
   "execution_count": 3,
   "metadata": {},
   "outputs": [
    {
     "name": "stdout",
     "output_type": "stream",
     "text": [
      "Notunuzu girin: 75\n",
      "CB Notunu aldınız.\n"
     ]
    }
   ],
   "source": [
    "note = float(input(\"Notunuzu girin: \"))\n",
    "\n",
    "if note >= 90:\n",
    "    print(\"AA Notunu aldınız.\")\n",
    "elif note >= 85:\n",
    "    print(\"BA Notunu aldınız.\")\n",
    "elif note >= 80:\n",
    "    print(\"BB Notunu aldınız.\")\n",
    "elif note >= 75:\n",
    "    print(\"CB Notunu aldınız.\")\n",
    "elif note >= 70:\n",
    "    print(\"CC Notunu aldınız.\")\n",
    "elif note >= 65:\n",
    "    print(\"DC Notunu aldınız.\")\n",
    "elif note >= 60:\n",
    "    print(\"DD Notunu aldınız.\")\n",
    "    \n",
    "else:\n",
    "    print(\"Kaldın..\")"
   ]
  },
  {
   "cell_type": "code",
   "execution_count": 5,
   "metadata": {},
   "outputs": [
    {
     "name": "stdout",
     "output_type": "stream",
     "text": [
      "Notunuzu girin: 65\n",
      "DC Notunu aldınız.\n",
      "DD Notunu aldınız.\n"
     ]
    }
   ],
   "source": [
    "#elif yerine if kullanılırsa;\n",
    "note = float(input(\"Notunuzu girin: \"))\n",
    "\n",
    "if note >= 90:\n",
    "    print(\"AA Notunu aldınız.\")\n",
    "if note >= 85:\n",
    "    print(\"BA Notunu aldınız.\")\n",
    "if note >= 80:\n",
    "    print(\"BB Notunu aldınız.\")\n",
    "if note >= 75:\n",
    "    print(\"CB Notunu aldınız.\")\n",
    "if note >= 70:\n",
    "    print(\"CC Notunu aldınız.\")\n",
    "if note >= 65:\n",
    "    \n",
    "    print(\"DC Notunu aldınız.\")\n",
    "if note >= 60:\n",
    "    print(\"DD Notunu aldınız.\")\n",
    "    \n",
    "else:\n",
    "    print(\"Kaldın..\")"
   ]
  },
  {
   "cell_type": "code",
   "execution_count": null,
   "metadata": {},
   "outputs": [],
   "source": []
  }
 ],
 "metadata": {
  "kernelspec": {
   "display_name": "Python 3",
   "language": "python",
   "name": "python3"
  },
  "language_info": {
   "codemirror_mode": {
    "name": "ipython",
    "version": 3
   },
   "file_extension": ".py",
   "mimetype": "text/x-python",
   "name": "python",
   "nbconvert_exporter": "python",
   "pygments_lexer": "ipython3",
   "version": "3.8.5"
  }
 },
 "nbformat": 4,
 "nbformat_minor": 4
}
