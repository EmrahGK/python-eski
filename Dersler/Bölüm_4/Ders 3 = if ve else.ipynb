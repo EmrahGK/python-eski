{
 "cells": [
  {
   "cell_type": "code",
   "execution_count": null,
   "metadata": {},
   "outputs": [],
   "source": [
    "#if ile yaptıracağımız şeyi bir tab boşlukla yazmamız gerekiyor. else de if çalışmadığı zaman çalışır."
   ]
  },
  {
   "cell_type": "code",
   "execution_count": 1,
   "metadata": {},
   "outputs": [
    {
     "name": "stdout",
     "output_type": "stream",
     "text": [
      "Yaşınızı Girin: 17\n",
      "Birkaç sene sonra tekrar dene :).\n"
     ]
    }
   ],
   "source": [
    "#18 yaş kontrolcüsü. gördüğünüz gibi 18 veya daha büyüksek hiçbir şey yazmıyor. Aşağıdaki uygulama bunu yapacak.\n",
    "\n",
    "yaş = int(input(\"Yaşınızı Girin: \"))\n",
    "\n",
    "if yaş < 18:\n",
    "    print(\"Birkaç sene sonra tekrar dene :).\")\n"
   ]
  },
  {
   "cell_type": "code",
   "execution_count": 3,
   "metadata": {},
   "outputs": [
    {
     "name": "stdout",
     "output_type": "stream",
     "text": [
      "Yaşınızı Girin: 18\n",
      "Hoşgeldiniz\n"
     ]
    }
   ],
   "source": [
    "yaş = int(input(\"Yaşınızı Girin: \"))\n",
    "\n",
    "if yaş < 18:\n",
    "    print(\"Birkaç sene sonra tekrar dene :).\")\n",
    "\n",
    "else:\n",
    "    print(\"Hoşgeldiniz\")"
   ]
  },
  {
   "cell_type": "code",
   "execution_count": null,
   "metadata": {},
   "outputs": [],
   "source": [
    "#negatif sayı hesaplama\n",
    "\n",
    "sayı = int(input(\"Lütfen bir sayı girin :\"))\n",
    "\n",
    "if sayı < 0:\n",
    "    print(\"Girdiğiniz sayı negatiftir..\")\n",
    "else:\n",
    "    print(\"Girdiğiniz sayı sıfır veya pozitiftir..\")"
   ]
  },
  {
   "cell_type": "code",
   "execution_count": null,
   "metadata": {},
   "outputs": [],
   "source": []
  }
 ],
 "metadata": {
  "kernelspec": {
   "display_name": "Python 3",
   "language": "python",
   "name": "python3"
  },
  "language_info": {
   "codemirror_mode": {
    "name": "ipython",
    "version": 3
   },
   "file_extension": ".py",
   "mimetype": "text/x-python",
   "name": "python",
   "nbconvert_exporter": "python",
   "pygments_lexer": "ipython3",
   "version": "3.8.5"
  }
 },
 "nbformat": 4,
 "nbformat_minor": 4
}
