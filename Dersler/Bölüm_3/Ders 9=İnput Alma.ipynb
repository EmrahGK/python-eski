{
 "cells": [
  {
   "cell_type": "code",
   "execution_count": null,
   "metadata": {},
   "outputs": [],
   "source": [
    "#artık yavaş yavaş gelişiyoruz :D."
   ]
  },
  {
   "cell_type": "code",
   "execution_count": null,
   "metadata": {},
   "outputs": [],
   "source": [
    "#input alıyoruz..\n",
    "input()"
   ]
  },
  {
   "cell_type": "code",
   "execution_count": 4,
   "metadata": {},
   "outputs": [
    {
     "name": "stdout",
     "output_type": "stream",
     "text": [
      "Lütfen bir sayı giriniz: 54\n"
     ]
    },
    {
     "data": {
      "text/plain": [
       "'54'"
      ]
     },
     "execution_count": 4,
     "metadata": {},
     "output_type": "execute_result"
    }
   ],
   "source": [
    "input(\"Lütfen bir sayı giriniz: \")"
   ]
  },
  {
   "cell_type": "code",
   "execution_count": 5,
   "metadata": {},
   "outputs": [
    {
     "name": "stdout",
     "output_type": "stream",
     "text": [
      "Lütfen bir sayı giriniz: 78\n",
      "Girdiğiniz sayı:  78\n"
     ]
    }
   ],
   "source": [
    "#kullanıcıdan sayı alıp sonra sayıyı yazdırmak.\n",
    "a = input(\"Lütfen bir sayı giriniz: \")\n",
    "print(\"Girdiğiniz sayı: \",a)"
   ]
  },
  {
   "cell_type": "code",
   "execution_count": 6,
   "metadata": {},
   "outputs": [
    {
     "name": "stdout",
     "output_type": "stream",
     "text": [
      "Lütfen bir sayı giriniz: 656\n",
      "Girdiğiniz sayının üç katı :  656656656\n"
     ]
    }
   ],
   "source": [
    "#sayı girdikten sonra sayının katlarını bulmak istersek bunu \"yapmamalıyız\" gördüğünüz gibi yan yana yazdı\n",
    "a = input(\"Lütfen bir sayı giriniz: \")\n",
    "print(\"Girdiğiniz sayının üç katı : \", a * 3)"
   ]
  },
  {
   "cell_type": "code",
   "execution_count": 7,
   "metadata": {},
   "outputs": [
    {
     "name": "stdout",
     "output_type": "stream",
     "text": [
      "Lütfen bir sayı giriniz: 152\n",
      "<class 'str'>\n"
     ]
    }
   ],
   "source": [
    "#sayının herhangi bir katını bulmak istiyorsak öncelikle girdiğimiz sayının bir \"sayı\" olduğunu python a sözylememiz\n",
    "#gerekiyor. gördüğünüz gibi string olduğu için rasyonel olarak katını alamıyoruz. Çünkü sayımızın sadece yazı değeri var.\n",
    "a = input(\"Lütfen bir sayı giriniz: \")\n",
    "print(type(a))"
   ]
  },
  {
   "cell_type": "code",
   "execution_count": 8,
   "metadata": {},
   "outputs": [
    {
     "name": "stdout",
     "output_type": "stream",
     "text": [
      "Lütfen bir sayı giriniz: 121\n",
      "Girdiğiniz sayının üç katı:  363\n"
     ]
    }
   ],
   "source": [
    "#string yani yazıyı sayıya çevirmemiz gerekiyor\n",
    "a = int(input(\"Lütfen bir sayı giriniz: \"))\n",
    "print(\"Girdiğiniz sayının üç katı: \",a * 3)"
   ]
  },
  {
   "cell_type": "code",
   "execution_count": 9,
   "metadata": {},
   "outputs": [
    {
     "name": "stdout",
     "output_type": "stream",
     "text": [
      "Birinci sayı: 21\n",
      "İkinci sayı: 87\n",
      "Üçüncü sayı: 5\n",
      "Girdiğiniz üç sayının toplamı:  113\n"
     ]
    }
   ],
   "source": [
    "#üç sayı alarak sayıların toplamını yazdırıyoruz.\n",
    "a = int(input(\"Birinci sayı: \"))\n",
    "b = int(input(\"İkinci sayı: \"))\n",
    "c = int(input(\"Üçüncü sayı: \"))\n",
    "\n",
    "toplam = a+b+c \n",
    "\n",
    "print(\"Girdiğiniz üç sayının toplamı: \",toplam)"
   ]
  },
  {
   "cell_type": "code",
   "execution_count": 3,
   "metadata": {},
   "outputs": [
    {
     "name": "stdout",
     "output_type": "stream",
     "text": [
      "a: 521ada\n"
     ]
    },
    {
     "ename": "ValueError",
     "evalue": "invalid literal for int() with base 10: '521ada'",
     "output_type": "error",
     "traceback": [
      "\u001b[1;31m---------------------------------------------------------------------------\u001b[0m",
      "\u001b[1;31mValueError\u001b[0m                                Traceback (most recent call last)",
      "\u001b[1;32m<ipython-input-3-fa8239ff97c4>\u001b[0m in \u001b[0;36m<module>\u001b[1;34m\u001b[0m\n\u001b[0;32m      1\u001b[0m \u001b[1;31m#hatalı kullanım. sayıların yanına harf de girerse hata verir.\u001b[0m\u001b[1;33m\u001b[0m\u001b[1;33m\u001b[0m\u001b[1;33m\u001b[0m\u001b[0m\n\u001b[1;32m----> 2\u001b[1;33m \u001b[0ma\u001b[0m \u001b[1;33m=\u001b[0m \u001b[0mint\u001b[0m\u001b[1;33m(\u001b[0m\u001b[0minput\u001b[0m\u001b[1;33m(\u001b[0m\u001b[1;34m\"a: \"\u001b[0m\u001b[1;33m)\u001b[0m\u001b[1;33m)\u001b[0m\u001b[1;33m\u001b[0m\u001b[1;33m\u001b[0m\u001b[0m\n\u001b[0m\u001b[0;32m      3\u001b[0m \u001b[0mprint\u001b[0m\u001b[1;33m(\u001b[0m\u001b[0ma\u001b[0m\u001b[1;33m)\u001b[0m\u001b[1;33m\u001b[0m\u001b[1;33m\u001b[0m\u001b[0m\n",
      "\u001b[1;31mValueError\u001b[0m: invalid literal for int() with base 10: '521ada'"
     ]
    }
   ],
   "source": [
    "#hatalı kullanım. sayıların yanına harf de girerse hata verir.\n",
    "a = int(input(\"a: \"))\n",
    "print(a)"
   ]
  },
  {
   "cell_type": "code",
   "execution_count": 13,
   "metadata": {},
   "outputs": [
    {
     "ename": "SyntaxError",
     "evalue": "invalid syntax (<ipython-input-13-356c9e8fdf75>, line 6)",
     "output_type": "error",
     "traceback": [
      "\u001b[1;36m  File \u001b[1;32m\"<ipython-input-13-356c9e8fdf75>\"\u001b[1;36m, line \u001b[1;32m6\u001b[0m\n\u001b[1;33m    except ValueError\u001b[0m\n\u001b[1;37m                     ^\u001b[0m\n\u001b[1;31mSyntaxError\u001b[0m\u001b[1;31m:\u001b[0m invalid syntax\n"
     ]
    }
   ],
   "source": [
    "#uyarı batırmak için (ileride göreceğiz.)\n",
    "\n",
    "try:\n",
    "    a = a = int(input(\"a: \"))\n",
    "    print(a)\n",
    "except ValueError\n",
    "   "
   ]
  },
  {
   "cell_type": "code",
   "execution_count": null,
   "metadata": {},
   "outputs": [],
   "source": []
  }
 ],
 "metadata": {
  "kernelspec": {
   "display_name": "Python 3",
   "language": "python",
   "name": "python3"
  },
  "language_info": {
   "codemirror_mode": {
    "name": "ipython",
    "version": 3
   },
   "file_extension": ".py",
   "mimetype": "text/x-python",
   "name": "python",
   "nbconvert_exporter": "python",
   "pygments_lexer": "ipython3",
   "version": "3.8.5"
  }
 },
 "nbformat": 4,
 "nbformat_minor": 4
}
