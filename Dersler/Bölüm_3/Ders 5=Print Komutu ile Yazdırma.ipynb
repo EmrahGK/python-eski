{
 "cells": [
  {
   "cell_type": "code",
   "execution_count": 1,
   "metadata": {},
   "outputs": [
    {
     "name": "stdout",
     "output_type": "stream",
     "text": [
      "35\n"
     ]
    }
   ],
   "source": [
    "#sayı yazdırmak için\n",
    "print(35)"
   ]
  },
  {
   "cell_type": "code",
   "execution_count": 2,
   "metadata": {},
   "outputs": [
    {
     "name": "stdout",
     "output_type": "stream",
     "text": [
      "3.14\n"
     ]
    }
   ],
   "source": [
    "#ondalıklı sayı yazdırmak\n",
    "print(3.14)"
   ]
  },
  {
   "cell_type": "code",
   "execution_count": 11,
   "metadata": {},
   "outputs": [
    {
     "name": "stdout",
     "output_type": "stream",
     "text": [
      "Emrah\n"
     ]
    }
   ],
   "source": [
    "# string yani yazıyı yazdırmak\n",
    "print(\"Emrah\")"
   ]
  },
  {
   "cell_type": "code",
   "execution_count": 10,
   "metadata": {},
   "outputs": [
    {
     "data": {
      "text/plain": [
       "'Emrah'"
      ]
     },
     "execution_count": 10,
     "metadata": {},
     "output_type": "execute_result"
    }
   ],
   "source": [
    "#Normalde emrah yazısının gözükmemesi gerekiyor. -Print kullanmak zorundayız program yazarken.- Çıkması bizi aldatmasın\n",
    "\"Emrah\""
   ]
  },
  {
   "cell_type": "code",
   "execution_count": 12,
   "metadata": {},
   "outputs": [
    {
     "name": "stdout",
     "output_type": "stream",
     "text": [
      "Emrah\n"
     ]
    }
   ],
   "source": [
    "#doğru kullanım bu şekilde.\n",
    "print(\"Emrah\")"
   ]
  },
  {
   "cell_type": "code",
   "execution_count": 13,
   "metadata": {},
   "outputs": [
    {
     "name": "stdout",
     "output_type": "stream",
     "text": [
      "19\n"
     ]
    }
   ],
   "source": [
    "# iki int -tam sayı- değişkeni atayarak sayıların toplamını yazdırıyoruz.\n",
    "a = 4\n",
    "b = 15\n",
    "print(a+ b)"
   ]
  },
  {
   "cell_type": "code",
   "execution_count": 15,
   "metadata": {},
   "outputs": [
    {
     "name": "stdout",
     "output_type": "stream",
     "text": [
      "Emrah'ın bugün dersi var.\n"
     ]
    }
   ],
   "source": [
    "# yazı yazdırma: kesme işareti olan cümleler için çift tırnak kullanıyoruz.\n",
    "print(\"Emrah'ın bugün dersi var.\")"
   ]
  },
  {
   "cell_type": "code",
   "execution_count": 16,
   "metadata": {},
   "outputs": [
    {
     "name": "stdout",
     "output_type": "stream",
     "text": [
      "35 4.54 Merhaba Python\n"
     ]
    }
   ],
   "source": [
    "#sırayla yazdırma -vigül kullanılır-. virgül koyulan şeyler arasında bir boşluk bırakır.\n",
    "print(35,4.54,\"Merhaba\",\"Python\")"
   ]
  },
  {
   "cell_type": "code",
   "execution_count": 19,
   "metadata": {},
   "outputs": [
    {
     "name": "stdout",
     "output_type": "stream",
     "text": [
      "Emrah Güvenkaya Merhaba\n"
     ]
    }
   ],
   "source": [
    "# 16.ya yeni örnek\n",
    "print(\"Emrah\",\"Güvenkaya\",\"Merhaba\")"
   ]
  },
  {
   "cell_type": "code",
   "execution_count": 20,
   "metadata": {},
   "outputs": [
    {
     "name": "stdout",
     "output_type": "stream",
     "text": [
      "Emrah\n",
      "Güvenkaya\n",
      "Merhaba\n"
     ]
    }
   ],
   "source": [
    "# \\n komutu ile tıpkı c ve c++ ta olduğu gibi yazdıracağımız şeyi alt satıra alabiliriz.\n",
    "print(\"Emrah\\nGüvenkaya\\nMerhaba\")"
   ]
  },
  {
   "cell_type": "code",
   "execution_count": 23,
   "metadata": {},
   "outputs": [
    {
     "name": "stdout",
     "output_type": "stream",
     "text": [
      "Emrah\tGüvenkaya\tMerhaba\n"
     ]
    }
   ],
   "source": [
    "# \\t komutu ile de yazdıracağımız kelimeleri veya cümleleri bir tab boşluğu -4 spaceboşluğu kadar- boşluk bırakabiliriz.\n",
    "print(\"Emrah\\tGüvenkaya\\tMerhaba\")"
   ]
  },
  {
   "cell_type": "code",
   "execution_count": 26,
   "metadata": {},
   "outputs": [
    {
     "name": "stdout",
     "output_type": "stream",
     "text": [
      "Ocak\tŞubat\tMart\n"
     ]
    }
   ],
   "source": [
    "#23.ye farklı bir örnek.\n",
    "print(\"Ocak\\tŞubat\\tMart\")"
   ]
  },
  {
   "cell_type": "code",
   "execution_count": 27,
   "metadata": {},
   "outputs": [
    {
     "name": "stdout",
     "output_type": "stream",
     "text": [
      "a\t\t\t\t\tb\n"
     ]
    }
   ],
   "source": [
    "# ne kadarlıkboşluk bırakılacağı = \\t sayısı x 4. ör:4 tane \\t yazsak kelimeler arasında 16lık bir boşluk olacak diyebiliriz\n",
    "print(\"a\\t\\t\\t\\tb\")"
   ]
  },
  {
   "cell_type": "code",
   "execution_count": 28,
   "metadata": {},
   "outputs": [
    {
     "data": {
      "text/plain": [
       "int"
      ]
     },
     "execution_count": 28,
     "metadata": {},
     "output_type": "execute_result"
    }
   ],
   "source": [
    "#print içine veya tamamen bağımsız olarak type yazarak karakterimizin tipini öğrenebiliriz.\n",
    "type(34)"
   ]
  },
  {
   "cell_type": "code",
   "execution_count": 29,
   "metadata": {},
   "outputs": [
    {
     "data": {
      "text/plain": [
       "float"
      ]
     },
     "execution_count": 29,
     "metadata": {},
     "output_type": "execute_result"
    }
   ],
   "source": [
    "#ondalıklı sayı\n",
    "type(3.14)"
   ]
  },
  {
   "cell_type": "code",
   "execution_count": 31,
   "metadata": {},
   "outputs": [
    {
     "data": {
      "text/plain": [
       "str"
      ]
     },
     "execution_count": 31,
     "metadata": {},
     "output_type": "execute_result"
    }
   ],
   "source": [
    "#yazı -string-\n",
    "type(\"Emrah\")"
   ]
  },
  {
   "cell_type": "code",
   "execution_count": 33,
   "metadata": {},
   "outputs": [
    {
     "name": "stdout",
     "output_type": "stream",
     "text": [
      "35-43-54-65\n"
     ]
    }
   ],
   "source": [
    "#eğer yazdıracağımız karakerler arasına virgül koyarsak default olarak python aralarına boşluk koyar.\n",
    "#bunu kontrol etmek için sep parametresini aşağıdaki gibi kullanırız.\n",
    "print(35,43,54,65, sep = \"-\")"
   ]
  },
  {
   "cell_type": "code",
   "execution_count": 35,
   "metadata": {},
   "outputs": [
    {
     "name": "stdout",
     "output_type": "stream",
     "text": [
      "Emrah\n",
      "Güvenkaya\n",
      "Merhaba\n"
     ]
    }
   ],
   "source": [
    "#sep parametresine ilginç ve çok işe yarayacak olan bir örnek. böylelikle kod ameleliğinden kurtuluyoruz :D.\n",
    "print(\"Emrah\",\"Güvenkaya\",\"Merhaba\", sep = \"\\n\")"
   ]
  },
  {
   "cell_type": "code",
   "execution_count": 36,
   "metadata": {},
   "outputs": [
    {
     "name": "stdout",
     "output_type": "stream",
     "text": [
      "06.07.2006\n"
     ]
    }
   ],
   "source": [
    "print(\"06\",\"07\",\"2006\", sep = \".\")"
   ]
  },
  {
   "cell_type": "code",
   "execution_count": 37,
   "metadata": {},
   "outputs": [
    {
     "name": "stdout",
     "output_type": "stream",
     "text": [
      "P y t h o n\n"
     ]
    }
   ],
   "source": [
    "#ben fero??\n",
    "print(*\"Python\")"
   ]
  },
  {
   "cell_type": "code",
   "execution_count": 38,
   "metadata": {},
   "outputs": [
    {
     "name": "stdout",
     "output_type": "stream",
     "text": [
      "P-y-t-h-o-n\n"
     ]
    }
   ],
   "source": [
    "#yazdıracağımız şeyin tırnak işaretinin sol tarafına * koyarak her harf arasında bir boşluk olmasını sağlayabiliriz.\n",
    "#ve bu boşlukları da sep parametresiyle kontrol edebiliyoruz.\n",
    "print(*\"Python\", sep = \"-\")"
   ]
  },
  {
   "cell_type": "code",
   "execution_count": 39,
   "metadata": {},
   "outputs": [
    {
     "name": "stdout",
     "output_type": "stream",
     "text": [
      "T.B.M.M\n"
     ]
    }
   ],
   "source": [
    "#TBMM kısaltmasında nokta\n",
    "print(\"T\",\"B\",\"M\",\"M\", sep= \".\")"
   ]
  },
  {
   "cell_type": "code",
   "execution_count": 40,
   "metadata": {},
   "outputs": [
    {
     "name": "stdout",
     "output_type": "stream",
     "text": [
      "T.B.M.M\n"
     ]
    }
   ],
   "source": [
    "#ama bunu daha kolay bir şekilde de yapabiliriz. yıldız ile harflerine ayırıyoruz ve arasındaki boşlukları sep ile nokta\n",
    "#olarak belirliyoruz. yine bir şekilde amelelikten kurtulmuş oluyoruz :D.\n",
    "print(*\"TBMM\", sep = \".\")"
   ]
  },
  {
   "cell_type": "code",
   "execution_count": 41,
   "metadata": {},
   "outputs": [],
   "source": [
    "#burda formatı uzun uzun açıklayamam valla üşendim.\n",
    "#www.pyformat.info"
   ]
  },
  {
   "cell_type": "code",
   "execution_count": null,
   "metadata": {},
   "outputs": [],
   "source": []
  },
  {
   "cell_type": "code",
   "execution_count": null,
   "metadata": {},
   "outputs": [],
   "source": []
  }
 ],
 "metadata": {
  "kernelspec": {
   "display_name": "Python 3",
   "language": "python",
   "name": "python3"
  },
  "language_info": {
   "codemirror_mode": {
    "name": "ipython",
    "version": 3
   },
   "file_extension": ".py",
   "mimetype": "text/x-python",
   "name": "python",
   "nbconvert_exporter": "python",
   "pygments_lexer": "ipython3",
   "version": "3.8.5"
  }
 },
 "nbformat": 4,
 "nbformat_minor": 4
}
