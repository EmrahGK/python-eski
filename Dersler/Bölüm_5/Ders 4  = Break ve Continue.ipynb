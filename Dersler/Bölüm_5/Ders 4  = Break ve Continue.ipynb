{
 "cells": [
  {
   "cell_type": "code",
   "execution_count": 1,
   "metadata": {},
   "outputs": [
    {
     "name": "stdout",
     "output_type": "stream",
     "text": [
      "i:  0\n",
      "i:  1\n",
      "i:  2\n",
      "i:  3\n",
      "i:  4\n",
      "i:  5\n",
      "i:  6\n",
      "i:  7\n",
      "i:  8\n",
      "i:  9\n"
     ]
    }
   ],
   "source": [
    "i = 0\n",
    "\n",
    "while(i < 10):\n",
    "    print(\"i: \",i)\n",
    "    i+=1"
   ]
  },
  {
   "cell_type": "code",
   "execution_count": 5,
   "metadata": {},
   "outputs": [
    {
     "name": "stdout",
     "output_type": "stream",
     "text": [
      "i:  0\n",
      "i:  1\n",
      "i:  2\n",
      "i:  3\n",
      "i:  4\n"
     ]
    }
   ],
   "source": [
    "i = 0\n",
    "\n",
    "while(i < 10):\n",
    "    print(\"i: \",i)\n",
    "    i+=1\n",
    "    if( i == 5 ):\n",
    "        break"
   ]
  },
  {
   "cell_type": "code",
   "execution_count": null,
   "metadata": {},
   "outputs": [],
   "source": [
    "liste = [1,2,3,4,5]\n",
    "\n",
    "for i in liste:\n",
    "    if(i == 3):\n",
    "        break\n",
    "    print(\"i: \",i)"
   ]
  },
  {
   "cell_type": "code",
   "execution_count": 1,
   "metadata": {},
   "outputs": [
    {
     "name": "stdout",
     "output_type": "stream",
     "text": [
      "İsminizi girin (çıkmak için q'ya basın) asd\n",
      "isminiz:  asd\n",
      "İsminizi girin (çıkmak için q'ya basın) q\n",
      "Programdan çıkılıyor...\n"
     ]
    }
   ],
   "source": [
    "while True:\n",
    "    isim = input(\"İsminizi girin (çıkmak için q'ya basın) \")\n",
    "    if(isim == \"q\"):\n",
    "        print(\"Programdan çıkılıyor...\")\n",
    "        break\n",
    "    print(\"isminiz: \",isim)"
   ]
  },
  {
   "cell_type": "code",
   "execution_count": 1,
   "metadata": {},
   "outputs": [
    {
     "name": "stdout",
     "output_type": "stream",
     "text": [
      "[0, 1, 2, 3, 4, 5, 6, 7, 8, 9, 10]\n"
     ]
    }
   ],
   "source": [
    "liste = list(range(11))\n",
    "print(liste)"
   ]
  },
  {
   "cell_type": "code",
   "execution_count": null,
   "metadata": {},
   "outputs": [],
   "source": [
    "for i in liste:\n",
    "    print(\"eleman değeri: \",i)"
   ]
  },
  {
   "cell_type": "code",
   "execution_count": null,
   "metadata": {},
   "outputs": [],
   "source": [
    "#gördüğüz gibi i 3 ve 5 olduğu zaman continue ediyor yani 'geçiyor.'\n",
    "\n",
    "for i in liste:\n",
    "    if(i == 3 or i == 5):\n",
    "        continue\n",
    "    print(\"eleman değeri: \",i)"
   ]
  },
  {
   "cell_type": "code",
   "execution_count": 2,
   "metadata": {},
   "outputs": [
    {
     "name": "stdout",
     "output_type": "stream",
     "text": [
      "İ'nin değeri:  0\n",
      "İ'nin değeri:  1\n",
      "İ'nin değeri:  3\n",
      "İ'nin değeri:  4\n",
      "İ'nin değeri:  5\n",
      "İ'nin değeri:  6\n",
      "İ'nin değeri:  7\n",
      "İ'nin değeri:  8\n",
      "İ'nin değeri:  9\n"
     ]
    }
   ],
   "source": [
    "i = 0\n",
    "\n",
    "while (i < 10):\n",
    "    \n",
    "    if (i == 2):\n",
    "        i  += 1\n",
    "        continue\n",
    "        \n",
    "    print(\"İ'nin değeri: \",i)\n",
    "    i +=1"
   ]
  },
  {
   "cell_type": "code",
   "execution_count": null,
   "metadata": {},
   "outputs": [],
   "source": [
    "#not : continue yazdığımızda o kod bloğundaki yazının aşağısındaki tüm kodları escape eder."
   ]
  }
 ],
 "metadata": {
  "kernelspec": {
   "display_name": "Python 3",
   "language": "python",
   "name": "python3"
  }
 },
 "nbformat": 4,
 "nbformat_minor": 4
}
